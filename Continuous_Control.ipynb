{
 "cells": [
  {
   "cell_type": "markdown",
   "metadata": {},
   "source": [
    "# Continuous Control\n",
    "\n",
    "---\n",
    "\n",
    "You are welcome to use this coding environment to train your agent for the project.  Follow the instructions below to get started!\n",
    "\n",
    "### 1. Start the Environment\n",
    "\n",
    "Run the next code cell to install a few packages.  This line will take a few minutes to run!"
   ]
  },
  {
   "cell_type": "code",
   "execution_count": 1,
   "metadata": {},
   "outputs": [
    {
     "name": "stdout",
     "output_type": "stream",
     "text": [
      "\u001b[31mtensorflow 1.7.1 has requirement numpy>=1.13.3, but you'll have numpy 1.12.1 which is incompatible.\u001b[0m\r\n",
      "\u001b[31mipython 6.5.0 has requirement prompt-toolkit<2.0.0,>=1.0.15, but you'll have prompt-toolkit 3.0.5 which is incompatible.\u001b[0m\r\n"
     ]
    }
   ],
   "source": [
    "!pip -q install ./python"
   ]
  },
  {
   "cell_type": "markdown",
   "metadata": {},
   "source": [
    "The environments corresponding to both versions of the environment are already saved in the Workspace and can be accessed at the file paths provided below.  \n",
    "\n",
    "Please select one of the two options below for loading the environment."
   ]
  },
  {
   "cell_type": "code",
   "execution_count": 2,
   "metadata": {},
   "outputs": [
    {
     "name": "stderr",
     "output_type": "stream",
     "text": [
      "INFO:unityagents:\n",
      "'Academy' started successfully!\n",
      "Unity Academy name: Academy\n",
      "        Number of Brains: 1\n",
      "        Number of External Brains : 1\n",
      "        Lesson number : 0\n",
      "        Reset Parameters :\n",
      "\t\tgoal_size -> 5.0\n",
      "\t\tgoal_speed -> 1.0\n",
      "Unity brain name: ReacherBrain\n",
      "        Number of Visual Observations (per agent): 0\n",
      "        Vector Observation space type: continuous\n",
      "        Vector Observation space size (per agent): 33\n",
      "        Number of stacked Vector Observation: 1\n",
      "        Vector Action space type: continuous\n",
      "        Vector Action space size (per agent): 4\n",
      "        Vector Action descriptions: , , , \n"
     ]
    }
   ],
   "source": [
    "from unityagents import UnityEnvironment\n",
    "import numpy as np\n",
    "\n",
    "# select this option to load version 1 (with a single agent) of the environment\n",
    "#env = UnityEnvironment(file_name='/data/Reacher_One_Linux_NoVis/Reacher_One_Linux_NoVis.x86_64')\n",
    "\n",
    "# select this option to load version 2 (with 20 agents) of the environment\n",
    "env = UnityEnvironment(file_name='/data/Reacher_Linux_NoVis/Reacher.x86_64')"
   ]
  },
  {
   "cell_type": "markdown",
   "metadata": {},
   "source": [
    "Environments contain **_brains_** which are responsible for deciding the actions of their associated agents. Here we check for the first brain available, and set it as the default brain we will be controlling from Python."
   ]
  },
  {
   "cell_type": "code",
   "execution_count": 3,
   "metadata": {},
   "outputs": [],
   "source": [
    "# get the default brain\n",
    "brain_name = env.brain_names[0]\n",
    "brain = env.brains[brain_name]"
   ]
  },
  {
   "cell_type": "markdown",
   "metadata": {},
   "source": [
    "### 2. Examine the State and Action Spaces\n",
    "\n",
    "Run the code cell below to print some information about the environment."
   ]
  },
  {
   "cell_type": "code",
   "execution_count": 4,
   "metadata": {},
   "outputs": [
    {
     "name": "stdout",
     "output_type": "stream",
     "text": [
      "Number of agents: 20\n",
      "Size of each action: 4\n",
      "There are 20 agents. Each observes a state with length: 33\n",
      "The state for the first agent looks like: [  0.00000000e+00  -4.00000000e+00   0.00000000e+00   1.00000000e+00\n",
      "  -0.00000000e+00  -0.00000000e+00  -4.37113883e-08   0.00000000e+00\n",
      "   0.00000000e+00   0.00000000e+00   0.00000000e+00   0.00000000e+00\n",
      "   0.00000000e+00   0.00000000e+00  -1.00000000e+01   0.00000000e+00\n",
      "   1.00000000e+00  -0.00000000e+00  -0.00000000e+00  -4.37113883e-08\n",
      "   0.00000000e+00   0.00000000e+00   0.00000000e+00   0.00000000e+00\n",
      "   0.00000000e+00   0.00000000e+00   5.75471878e+00  -1.00000000e+00\n",
      "   5.55726624e+00   0.00000000e+00   1.00000000e+00   0.00000000e+00\n",
      "  -1.68164849e-01]\n"
     ]
    }
   ],
   "source": [
    "# reset the environment\n",
    "env_info = env.reset(train_mode=True)[brain_name]\n",
    "\n",
    "# number of agents\n",
    "num_agents = len(env_info.agents)\n",
    "print('Number of agents:', num_agents)\n",
    "\n",
    "# size of each action\n",
    "action_size = brain.vector_action_space_size\n",
    "print('Size of each action:', action_size)\n",
    "\n",
    "# examine the state space \n",
    "states = env_info.vector_observations\n",
    "state_size = states.shape[1]\n",
    "print('There are {} agents. Each observes a state with length: {}'.format(states.shape[0], state_size))\n",
    "print('The state for the first agent looks like:', states[0])"
   ]
  },
  {
   "cell_type": "markdown",
   "metadata": {},
   "source": [
    "### 3. Take Random Actions in the Environment\n",
    "\n",
    "In the next code cell, you will learn how to use the Python API to control the agent and receive feedback from the environment.\n",
    "\n",
    "Note that **in this coding environment, you will not be able to watch the agents while they are training**, and you should set `train_mode=True` to restart the environment."
   ]
  },
  {
   "cell_type": "code",
   "execution_count": 5,
   "metadata": {},
   "outputs": [],
   "source": [
    "# env_info = env.reset(train_mode=True)[brain_name]      # reset the environment    \n",
    "# states = env_info.vector_observations                  # get the current state (for each agent)\n",
    "# scores = np.zeros(num_agents)                          # initialize the score (for each agent)\n",
    "# while True:\n",
    "#     actions = np.random.randn(num_agents, action_size) # select an action (for each agent)\n",
    "#     actions = np.clip(actions, -1, 1)                  # all actions between -1 and 1\n",
    "#     env_info = env.step(actions)[brain_name]           # send all actions to tne environment\n",
    "#     next_states = env_info.vector_observations         # get next state (for each agent)\n",
    "#     rewards = env_info.rewards                         # get reward (for each agent)\n",
    "#     dones = env_info.local_done                        # see if episode finished\n",
    "#     scores += env_info.rewards                         # update the score (for each agent)\n",
    "#     states = next_states                               # roll over states to next time step\n",
    "#     if np.any(dones):                                  # exit loop if episode finished\n",
    "#         break\n",
    "# print('Total score (averaged over agents) this episode: {}'.format(np.mean(scores)))"
   ]
  },
  {
   "cell_type": "markdown",
   "metadata": {},
   "source": [
    "When finished, you can close the environment."
   ]
  },
  {
   "cell_type": "code",
   "execution_count": 6,
   "metadata": {},
   "outputs": [],
   "source": [
    "# env.close()"
   ]
  },
  {
   "cell_type": "markdown",
   "metadata": {},
   "source": [
    "### 4. It's Your Turn!\n",
    "\n",
    "Now it's your turn to train your own agent to solve the environment!  A few **important notes**:\n",
    "- When training the environment, set `train_mode=True`, so that the line for resetting the environment looks like the following:\n",
    "```python\n",
    "env_info = env.reset(train_mode=True)[brain_name]\n",
    "```\n",
    "- To structure your work, you're welcome to work directly in this Jupyter notebook, or you might like to start over with a new file!  You can see the list of files in the workspace by clicking on **_Jupyter_** in the top left corner of the notebook.\n",
    "- In this coding environment, you will not be able to watch the agents while they are training.  However, **_after training the agents_**, you can download the saved model weights to watch the agents on your own machine! "
   ]
  },
  {
   "cell_type": "code",
   "execution_count": 7,
   "metadata": {},
   "outputs": [],
   "source": [
    "from  collections  import deque\n",
    "from itertools import count\n",
    "import torch\n",
    "import time\n",
    "from ddpg_agent import Agent\n",
    "import matplotlib.pyplot as plt\n",
    "%matplotlib inline\n",
    "env_info = env.reset(train_mode=True)[brain_name]\n",
    "agent = Agent(state_size=state_size, action_size=action_size, random_seed=8)"
   ]
  },
  {
   "cell_type": "code",
   "execution_count": 8,
   "metadata": {},
   "outputs": [
    {
     "name": "stdout",
     "output_type": "stream",
     "text": [
      "Episode: 1, Score: 0.31, Max: 0.82, Min: 0.00 \n",
      "Episode: 2, Score: 0.46, Max: 1.75, Min: 0.00 \n",
      "Episode: 3, Score: 0.77, Max: 3.90, Min: 0.03 \n",
      "Episode: 4, Score: 0.89, Max: 2.24, Min: 0.00 \n",
      "Episode: 5, Score: 0.77, Max: 2.02, Min: 0.00 \n",
      "Episode: 6, Score: 0.46, Max: 1.34, Min: 0.00 \n",
      "Episode: 7, Score: 0.56, Max: 1.66, Min: 0.00 \n",
      "Episode: 8, Score: 0.43, Max: 1.22, Min: 0.00 \n",
      "Episode: 9, Score: 0.88, Max: 2.12, Min: 0.16 \n",
      "Episode: 10, Score: 0.91, Max: 2.67, Min: 0.00 \n",
      "*** Episode 10\tAverage Score: 0.64, Time: 00:01:54 *** \n",
      "Episode: 11, Score: 1.03, Max: 2.30, Min: 0.18 \n",
      "Episode: 12, Score: 0.77, Max: 1.77, Min: 0.12 \n",
      "Episode: 13, Score: 0.65, Max: 1.70, Min: 0.00 \n",
      "Episode: 14, Score: 1.20, Max: 2.29, Min: 0.10 \n",
      "Episode: 15, Score: 0.65, Max: 1.53, Min: 0.00 \n",
      "Episode: 16, Score: 0.96, Max: 2.09, Min: 0.13 \n",
      "Episode: 17, Score: 1.27, Max: 2.28, Min: 0.22 \n",
      "Episode: 18, Score: 1.09, Max: 2.68, Min: 0.35 \n",
      "Episode: 19, Score: 1.13, Max: 2.52, Min: 0.18 \n",
      "Episode: 20, Score: 1.52, Max: 3.19, Min: 0.47 \n",
      "*** Episode 20\tAverage Score: 0.84, Time: 00:04:00 *** \n",
      "Episode: 21, Score: 1.53, Max: 3.05, Min: 0.22 \n",
      "Episode: 22, Score: 1.19, Max: 2.34, Min: 0.00 \n",
      "Episode: 23, Score: 1.61, Max: 3.59, Min: 0.35 \n",
      "Episode: 24, Score: 1.52, Max: 2.57, Min: 0.38 \n",
      "Episode: 25, Score: 1.74, Max: 3.97, Min: 0.00 \n",
      "Episode: 26, Score: 1.48, Max: 4.01, Min: 0.12 \n",
      "Episode: 27, Score: 2.18, Max: 4.90, Min: 0.31 \n",
      "Episode: 28, Score: 1.80, Max: 3.68, Min: 0.17 \n",
      "Episode: 29, Score: 1.60, Max: 2.96, Min: 0.43 \n",
      "Episode: 30, Score: 2.33, Max: 4.94, Min: 0.47 \n",
      "*** Episode 30\tAverage Score: 1.12, Time: 00:06:28 *** \n",
      "Episode: 31, Score: 1.84, Max: 3.48, Min: 0.13 \n",
      "Episode: 32, Score: 2.21, Max: 4.11, Min: 0.66 \n",
      "Episode: 33, Score: 2.67, Max: 5.76, Min: 1.33 \n",
      "Episode: 34, Score: 2.44, Max: 3.75, Min: 1.21 \n",
      "Episode: 35, Score: 2.61, Max: 4.51, Min: 0.61 \n",
      "Episode: 36, Score: 2.98, Max: 4.83, Min: 0.98 \n",
      "Episode: 37, Score: 2.95, Max: 7.54, Min: 0.52 \n",
      "Episode: 38, Score: 3.42, Max: 6.37, Min: 0.22 \n",
      "Episode: 39, Score: 3.71, Max: 6.66, Min: 1.38 \n",
      "Episode: 40, Score: 3.06, Max: 4.89, Min: 1.90 \n",
      "*** Episode 40\tAverage Score: 1.54, Time: 00:09:22 *** \n",
      "Episode: 41, Score: 4.09, Max: 6.47, Min: 1.52 \n",
      "Episode: 42, Score: 3.82, Max: 6.37, Min: 1.25 \n",
      "Episode: 43, Score: 4.33, Max: 6.17, Min: 2.15 \n",
      "Episode: 44, Score: 4.13, Max: 8.91, Min: 2.29 \n",
      "Episode: 45, Score: 4.67, Max: 10.16, Min: 0.60 \n",
      "Episode: 46, Score: 4.62, Max: 8.15, Min: 1.57 \n",
      "Episode: 47, Score: 4.50, Max: 7.19, Min: 1.81 \n",
      "Episode: 48, Score: 4.30, Max: 8.08, Min: 0.91 \n",
      "Episode: 49, Score: 5.19, Max: 8.64, Min: 2.03 \n",
      "Episode: 50, Score: 6.41, Max: 16.78, Min: 2.12 \n",
      "*** Episode 50\tAverage Score: 2.15, Time: 00:12:41 *** \n",
      "Episode: 51, Score: 4.99, Max: 8.50, Min: 1.78 \n",
      "Episode: 52, Score: 5.20, Max: 10.32, Min: 2.89 \n",
      "Episode: 53, Score: 4.85, Max: 8.94, Min: 2.22 \n",
      "Episode: 54, Score: 5.42, Max: 7.43, Min: 3.58 \n",
      "Episode: 55, Score: 4.86, Max: 7.67, Min: 1.58 \n",
      "Episode: 56, Score: 4.44, Max: 8.08, Min: 0.92 \n",
      "Episode: 57, Score: 4.89, Max: 7.82, Min: 1.05 \n",
      "Episode: 58, Score: 5.09, Max: 9.14, Min: 1.83 \n",
      "Episode: 59, Score: 5.45, Max: 8.71, Min: 0.75 \n",
      "Episode: 60, Score: 6.33, Max: 12.91, Min: 3.99 \n",
      "*** Episode 60\tAverage Score: 2.65, Time: 00:16:15 *** \n",
      "Episode: 61, Score: 8.02, Max: 30.58, Min: 3.80 \n",
      "Episode: 62, Score: 6.87, Max: 26.65, Min: 2.99 \n",
      "Episode: 63, Score: 7.41, Max: 19.09, Min: 3.70 \n",
      "Episode: 64, Score: 5.71, Max: 13.16, Min: 1.17 \n",
      "Episode: 65, Score: 10.10, Max: 29.29, Min: 4.60 \n",
      "Episode: 66, Score: 7.98, Max: 15.51, Min: 3.25 \n",
      "Episode: 67, Score: 7.94, Max: 12.32, Min: 3.26 \n",
      "Episode: 68, Score: 9.05, Max: 18.56, Min: 3.38 \n",
      "Episode: 69, Score: 9.87, Max: 16.22, Min: 3.36 \n",
      "Episode: 70, Score: 10.47, Max: 16.70, Min: 3.03 \n",
      "*** Episode 70\tAverage Score: 3.47, Time: 00:19:47 *** \n",
      "Episode: 71, Score: 9.47, Max: 14.10, Min: 5.37 \n",
      "Episode: 72, Score: 9.34, Max: 15.61, Min: 4.20 \n",
      "Episode: 73, Score: 9.94, Max: 15.83, Min: 5.27 \n",
      "Episode: 74, Score: 9.51, Max: 15.84, Min: 3.23 \n",
      "Episode: 75, Score: 9.25, Max: 19.36, Min: 3.18 \n",
      "Episode: 76, Score: 9.24, Max: 12.16, Min: 5.64 \n",
      "Episode: 77, Score: 12.41, Max: 30.06, Min: 6.31 \n",
      "Episode: 78, Score: 12.03, Max: 19.00, Min: 4.25 \n",
      "Episode: 79, Score: 11.79, Max: 16.88, Min: 7.00 \n",
      "Episode: 80, Score: 13.59, Max: 22.56, Min: 7.82 \n",
      "*** Episode 80\tAverage Score: 4.36, Time: 00:23:19 *** \n",
      "Episode: 81, Score: 10.58, Max: 16.80, Min: 3.17 \n",
      "Episode: 82, Score: 13.42, Max: 30.82, Min: 4.87 \n",
      "Episode: 83, Score: 13.07, Max: 17.99, Min: 8.92 \n",
      "Episode: 84, Score: 12.48, Max: 17.30, Min: 5.49 \n",
      "Episode: 85, Score: 11.83, Max: 18.89, Min: 5.16 \n",
      "Episode: 86, Score: 14.22, Max: 20.19, Min: 8.52 \n",
      "Episode: 87, Score: 12.14, Max: 18.28, Min: 2.46 \n",
      "Episode: 88, Score: 14.79, Max: 21.32, Min: 9.35 \n",
      "Episode: 89, Score: 12.86, Max: 17.61, Min: 6.12 \n",
      "Episode: 90, Score: 15.27, Max: 23.78, Min: 7.09 \n",
      "*** Episode 90\tAverage Score: 5.33, Time: 00:26:52 *** \n",
      "Episode: 91, Score: 13.45, Max: 17.91, Min: 3.52 \n",
      "Episode: 92, Score: 16.17, Max: 31.16, Min: 8.55 \n",
      "Episode: 93, Score: 13.70, Max: 18.53, Min: 3.68 \n",
      "Episode: 94, Score: 14.92, Max: 21.80, Min: 5.82 \n",
      "Episode: 95, Score: 14.34, Max: 18.32, Min: 9.54 \n",
      "Episode: 96, Score: 15.27, Max: 25.33, Min: 6.36 \n",
      "Episode: 97, Score: 15.30, Max: 21.03, Min: 6.29 \n",
      "Episode: 98, Score: 16.08, Max: 22.37, Min: 8.26 \n",
      "Episode: 99, Score: 17.77, Max: 39.47, Min: 10.96 \n",
      "Episode: 100, Score: 14.18, Max: 21.90, Min: 1.59 \n",
      "*** Episode 100\tAverage Score: 6.31, Time: 00:30:25 *** \n",
      "Episode: 101, Score: 15.34, Max: 20.73, Min: 9.14 \n",
      "Episode: 102, Score: 17.77, Max: 22.09, Min: 7.72 \n",
      "Episode: 103, Score: 16.44, Max: 25.77, Min: 3.52 \n",
      "Episode: 104, Score: 16.30, Max: 23.22, Min: 0.10 \n",
      "Episode: 105, Score: 17.64, Max: 21.84, Min: 7.86 \n",
      "Episode: 106, Score: 17.21, Max: 25.10, Min: 7.77 \n",
      "Episode: 107, Score: 18.85, Max: 35.11, Min: 6.72 \n",
      "Episode: 108, Score: 19.84, Max: 32.51, Min: 10.62 \n",
      "Episode: 109, Score: 17.65, Max: 29.23, Min: 6.38 \n",
      "Episode: 110, Score: 17.93, Max: 27.31, Min: 10.75 \n",
      "*** Episode 110\tAverage Score: 8.00, Time: 00:33:58 *** \n",
      "Episode: 111, Score: 19.07, Max: 25.10, Min: 10.77 \n",
      "Episode: 112, Score: 21.42, Max: 26.33, Min: 9.45 \n",
      "Episode: 113, Score: 16.14, Max: 25.71, Min: 6.71 \n",
      "Episode: 114, Score: 18.61, Max: 24.55, Min: 9.74 \n",
      "Episode: 115, Score: 18.52, Max: 26.03, Min: 8.68 \n",
      "Episode: 116, Score: 20.62, Max: 27.36, Min: 9.76 \n",
      "Episode: 117, Score: 21.92, Max: 36.63, Min: 16.37 \n",
      "Episode: 118, Score: 23.66, Max: 39.44, Min: 19.50 \n",
      "Episode: 119, Score: 24.66, Max: 34.72, Min: 15.23 \n",
      "Episode: 120, Score: 23.16, Max: 29.91, Min: 9.75 \n",
      "*** Episode 120\tAverage Score: 9.97, Time: 00:37:32 *** \n",
      "Episode: 121, Score: 22.25, Max: 34.46, Min: 3.16 \n",
      "Episode: 122, Score: 24.21, Max: 36.02, Min: 12.87 \n",
      "Episode: 123, Score: 22.65, Max: 32.32, Min: 15.47 \n",
      "Episode: 124, Score: 20.81, Max: 32.60, Min: 12.39 \n",
      "Episode: 125, Score: 23.90, Max: 32.22, Min: 13.00 \n",
      "Episode: 126, Score: 26.57, Max: 37.82, Min: 22.32 \n",
      "Episode: 127, Score: 24.40, Max: 29.42, Min: 11.83 \n",
      "Episode: 128, Score: 22.11, Max: 29.30, Min: 15.14 \n",
      "Episode: 129, Score: 24.99, Max: 39.07, Min: 15.69 \n",
      "Episode: 130, Score: 26.52, Max: 39.33, Min: 17.51 \n",
      "*** Episode 130\tAverage Score: 12.18, Time: 00:41:05 *** \n",
      "Episode: 131, Score: 25.76, Max: 32.82, Min: 19.93 \n",
      "Episode: 132, Score: 25.39, Max: 34.31, Min: 13.73 \n",
      "Episode: 133, Score: 26.36, Max: 33.80, Min: 16.51 \n",
      "Episode: 134, Score: 27.10, Max: 37.00, Min: 16.08 \n",
      "Episode: 135, Score: 28.35, Max: 37.23, Min: 14.98 \n",
      "Episode: 136, Score: 29.23, Max: 36.15, Min: 15.05 \n",
      "Episode: 137, Score: 27.38, Max: 35.27, Min: 14.40 \n",
      "Episode: 138, Score: 27.44, Max: 38.00, Min: 15.86 \n",
      "Episode: 139, Score: 28.36, Max: 35.56, Min: 14.62 \n",
      "Episode: 140, Score: 30.91, Max: 35.01, Min: 25.33 \n",
      "*** Episode 140\tAverage Score: 14.67, Time: 00:44:38 *** \n",
      "Episode: 141, Score: 31.09, Max: 37.86, Min: 20.11 \n",
      "Episode: 142, Score: 32.11, Max: 39.15, Min: 21.97 \n",
      "Episode: 143, Score: 29.93, Max: 39.35, Min: 11.90 \n",
      "Episode: 144, Score: 31.60, Max: 36.15, Min: 23.17 \n",
      "Episode: 145, Score: 32.25, Max: 36.41, Min: 25.36 \n",
      "Episode: 146, Score: 34.29, Max: 37.25, Min: 30.02 \n",
      "Episode: 147, Score: 32.80, Max: 37.67, Min: 23.58 \n",
      "Episode: 148, Score: 31.41, Max: 37.80, Min: 17.91 \n",
      "Episode: 149, Score: 32.34, Max: 36.61, Min: 19.51 \n",
      "Episode: 150, Score: 33.77, Max: 38.09, Min: 22.63 \n",
      "*** Episode 150\tAverage Score: 17.42, Time: 00:48:12 *** \n",
      "Episode: 151, Score: 34.62, Max: 38.90, Min: 25.92 \n",
      "Episode: 152, Score: 33.88, Max: 39.17, Min: 23.90 \n",
      "Episode: 153, Score: 35.21, Max: 39.16, Min: 26.61 \n",
      "Episode: 154, Score: 35.27, Max: 39.52, Min: 31.15 \n",
      "Episode: 155, Score: 33.79, Max: 39.50, Min: 20.23 \n",
      "Episode: 156, Score: 34.26, Max: 39.45, Min: 26.17 \n",
      "Episode: 157, Score: 34.55, Max: 38.49, Min: 24.37 \n",
      "Episode: 158, Score: 36.35, Max: 39.19, Min: 30.45 \n",
      "Episode: 159, Score: 35.22, Max: 38.54, Min: 28.45 \n",
      "Episode: 160, Score: 33.22, Max: 38.38, Min: 27.30 \n",
      "*** Episode 160\tAverage Score: 20.37, Time: 00:51:46 *** \n",
      "Episode: 161, Score: 35.21, Max: 38.26, Min: 31.03 \n",
      "Episode: 162, Score: 34.42, Max: 38.44, Min: 26.88 \n",
      "Episode: 163, Score: 35.72, Max: 39.30, Min: 30.08 \n",
      "Episode: 164, Score: 35.11, Max: 38.84, Min: 26.74 \n",
      "Episode: 165, Score: 35.95, Max: 38.97, Min: 25.23 \n",
      "Episode: 166, Score: 35.81, Max: 39.49, Min: 30.40 \n",
      "Episode: 167, Score: 33.96, Max: 38.78, Min: 20.60 \n",
      "Episode: 168, Score: 36.15, Max: 39.46, Min: 32.27 \n",
      "Episode: 169, Score: 35.30, Max: 39.47, Min: 30.27 \n",
      "Episode: 170, Score: 37.29, Max: 39.47, Min: 32.17 \n",
      "*** Episode 170\tAverage Score: 23.09, Time: 00:55:19 *** \n",
      "Episode: 171, Score: 35.42, Max: 39.03, Min: 26.74 \n",
      "Episode: 172, Score: 36.07, Max: 39.24, Min: 31.35 \n",
      "Episode: 173, Score: 36.95, Max: 39.48, Min: 29.55 \n",
      "Episode: 174, Score: 35.83, Max: 39.50, Min: 24.39 \n",
      "Episode: 175, Score: 36.70, Max: 39.10, Min: 30.66 \n",
      "Episode: 176, Score: 36.73, Max: 39.40, Min: 28.42 \n",
      "Episode: 177, Score: 38.18, Max: 39.58, Min: 34.24 \n",
      "Episode: 178, Score: 35.96, Max: 39.13, Min: 30.84 \n",
      "Episode: 179, Score: 36.85, Max: 39.14, Min: 28.81 \n",
      "Episode: 180, Score: 36.28, Max: 39.46, Min: 30.43 \n",
      "*** Episode 180\tAverage Score: 25.67, Time: 00:58:53 *** \n",
      "Episode: 181, Score: 36.87, Max: 39.30, Min: 30.64 \n",
      "Episode: 182, Score: 36.78, Max: 39.03, Min: 29.87 \n",
      "Episode: 183, Score: 35.78, Max: 38.46, Min: 28.22 \n",
      "Episode: 184, Score: 37.48, Max: 39.29, Min: 35.77 \n",
      "Episode: 185, Score: 36.50, Max: 39.39, Min: 32.53 \n",
      "Episode: 186, Score: 36.71, Max: 39.14, Min: 31.65 \n",
      "Episode: 187, Score: 36.81, Max: 38.97, Min: 33.91 \n",
      "Episode: 188, Score: 36.09, Max: 39.38, Min: 29.28 \n",
      "Episode: 189, Score: 36.45, Max: 39.17, Min: 30.47 \n",
      "Episode: 190, Score: 36.35, Max: 38.42, Min: 31.58 \n",
      "*** Episode 190\tAverage Score: 28.02, Time: 01:02:26 *** \n",
      "Episode: 191, Score: 37.05, Max: 38.82, Min: 35.09 \n",
      "Episode: 192, Score: 35.66, Max: 39.49, Min: 27.43 \n",
      "Episode: 193, Score: 36.57, Max: 39.56, Min: 33.43 \n",
      "Episode: 194, Score: 36.77, Max: 38.62, Min: 31.92 \n",
      "Episode: 195, Score: 37.84, Max: 39.08, Min: 35.12 \n",
      "Episode: 196, Score: 37.08, Max: 39.45, Min: 33.46 \n",
      "Episode: 197, Score: 37.84, Max: 39.22, Min: 36.32 \n",
      "Episode: 198, Score: 37.65, Max: 39.57, Min: 33.53 \n",
      "Episode: 199, Score: 37.41, Max: 39.21, Min: 29.68 \n",
      "Episode: 200, Score: 36.26, Max: 39.28, Min: 33.08 \n",
      "*** Episode 200\tAverage Score: 30.21, Time: 01:05:59 *** \n",
      "Environment solved !\n"
     ]
    }
   ],
   "source": [
    "def ddpg(n_episodes=1000, print_every=10):\n",
    "    scores_deque = deque(maxlen=100)\n",
    "    scores_global = []\n",
    "        \n",
    "    time_start = time.time()\n",
    "    \n",
    "    for i_episode in range(1, n_episodes+1):\n",
    "        env_info = env.reset(train_mode=True)[brain_name]      # reset the environment    \n",
    "        states = env_info.vector_observations                  # get the current state (for each agent)\n",
    "        scores = np.zeros(num_agents)                          # initialize the score (for each agent)\n",
    "        agent.reset()\n",
    "        score_average = 0\n",
    "\n",
    "        for timestep in range(2000):\n",
    "            actions = agent.act(states)\n",
    "            env_info = env.step(actions)[brain_name]           # send all actions to tne environment\n",
    "            next_states = env_info.vector_observations         # get next state (for each agent)\n",
    "            rewards = env_info.rewards                         # get reward (for each agent)\n",
    "            dones = env_info.local_done                        # see if episode finished\n",
    "            agent.step(states, actions, rewards, next_states, dones, timestep)\n",
    "            states = next_states                               # roll over states to next time step\n",
    "            scores += rewards                                  # update the score (for each agent)    \n",
    "            if np.any(dones):                                  # exit loop if episode finished\n",
    "                break\n",
    "        \n",
    "        score = np.mean(scores)\n",
    "        scores_deque.append(score)\n",
    "        score_average = np.mean(scores_deque)\n",
    "        scores_global.append(score)\n",
    "        \n",
    "        print('Episode: {}, Score: {:.2f}, Max: {:.2f}, Min: {:.2f} '\\\n",
    "              .format(i_episode, score, np.max(scores), np.min(scores)))\n",
    "        \n",
    "        if i_episode % print_every == 0 or (len(scores_deque) == 100 and np.mean(scores_deque) >= 30) :\n",
    "            torch.save(agent.actor_local.state_dict(), 'checkpoint_actor.pth')\n",
    "            torch.save(agent.critic_local.state_dict(), 'checkpoint_critic.pth')\n",
    "            s = (int)(time.time() - time_start) \n",
    "            print('*** Episode {}\\tAverage Score: {:.2f}, Time: {:02}:{:02}:{:02} *** '\\\n",
    "                  .format(i_episode, np.mean(scores_deque), s//3600, s%3600//60, s%60))  \n",
    "            \n",
    "        if len(scores_deque) == 100 and np.mean(scores_deque) >= 30:  \n",
    "            print('Environment solved !')\n",
    "            break\n",
    "            \n",
    "    return scores_global\n",
    "\n",
    "scores = ddpg()"
   ]
  },
  {
   "cell_type": "code",
   "execution_count": 9,
   "metadata": {},
   "outputs": [
    {
     "data": {
      "image/png": "[encoded data removed]",
      "text/plain": [
       "<matplotlib.figure.Figure at 0x7f8e8c439dd8>"
      ]
     },
     "metadata": {
      "needs_background": "light"
     },
     "output_type": "display_data"
    }
   ],
   "source": [
    "fig = plt.figure()\n",
    "ax = fig.add_subplot(111)\n",
    "plt.plot(np.arange(1, len(scores)+1), scores)\n",
    "plt.ylabel('Score Achieved')\n",
    "plt.xlabel('Number of Episode')\n",
    "plt.show()"
   ]
  },
  {
   "cell_type": "code",
   "execution_count": 10,
   "metadata": {},
   "outputs": [],
   "source": [
    "env.close()"
   ]
  },
  {
   "cell_type": "code",
   "execution_count": null,
   "metadata": {},
   "outputs": [],
   "source": []
  }
 ],
 "metadata": {
  "kernelspec": {
   "display_name": "Python 3",
   "language": "python",
   "name": "python3"
  },
  "language_info": {
   "codemirror_mode": {
    "name": "ipython",
    "version": 3
   },
   "file_extension": ".py",
   "mimetype": "text/x-python",
   "name": "python",
   "nbconvert_exporter": "python",
   "pygments_lexer": "ipython3",
   "version": "3.6.3"
  }
 },
 "nbformat": 4,
 "nbformat_minor": 2
}
